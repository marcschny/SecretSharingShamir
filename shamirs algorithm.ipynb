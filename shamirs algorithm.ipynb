{
 "cells": [
  {
   "cell_type": "code",
   "execution_count": 1,
   "metadata": {},
   "outputs": [
    {
     "name": "stdout",
     "output_type": "stream",
     "text": [
      "Original Secret: 4321\n",
      "x-coordinates: 9798, 4807, 4044, 3439, 2836, 8409\n",
      "y-coordinates: 936853626277, 225518698029, 159613813081, 115432446621, 78505095657, 690067434961\n",
      "Combining shares: (2836, 78505095657), (4807, 225518698029), (3439, 115432446621)\n",
      "Reconstructed secret: 4321\n"
     ]
    }
   ],
   "source": [
    "import random\n",
    "from math import ceil\n",
    "from decimal import Decimal\n",
    "\n",
    " \n",
    "FIELD_SIZE = 10000\n",
    " \n",
    " \n",
    "def reconstruct_secret(shares):\n",
    "    \"\"\"\n",
    "    Combines individual shares (points on graph)\n",
    "    using Lagranges interpolation.\n",
    " \n",
    "    `shares` is a list of points (x, y) belonging to a\n",
    "    polynomial with a constant of our key.\n",
    "    \"\"\"\n",
    "    sums = 0\n",
    "    prod_arr = []\n",
    " \n",
    "    for j, share_j in enumerate(shares):\n",
    "        xj, yj = share_j\n",
    "        prod = Decimal(1)\n",
    " \n",
    "        for i, share_i in enumerate(shares):\n",
    "            xi, _ = share_i\n",
    "            if i != j:\n",
    "                prod *= Decimal(Decimal(xi)/(xi-xj))\n",
    " \n",
    "        prod *= yj\n",
    "        sums += Decimal(prod)\n",
    " \n",
    "    return int(round(Decimal(sums), 0))\n",
    " \n",
    " \n",
    "def polynom(x, coefficients):\n",
    "    \"\"\"\n",
    "    This generates a single point on the graph of given polynomial\n",
    "    in `x`. The polynomial is given by the list of `coefficients`.\n",
    "    \"\"\"\n",
    "    point = 0\n",
    "    # Loop through reversed list, so that indices from enumerate match the\n",
    "    # actual coefficient indices\n",
    "    for coefficient_index, coefficient_value in enumerate(coefficients[::-1]):\n",
    "        point += x ** coefficient_index * coefficient_value\n",
    "    return point\n",
    " \n",
    " \n",
    "def coeff(t, secret):\n",
    "    \"\"\"\n",
    "    Randomly generate a list of coefficients for a polynomial with\n",
    "    degree of `t` - 1, whose constant is `secret`.\n",
    " \n",
    "    For example with a 3rd degree coefficient like this:\n",
    "        3x^3 + 4x^2 + 18x + 554\n",
    " \n",
    "        554 is the secret, and the polynomial degree + 1 is\n",
    "        how many points are needed to recover this secret.\n",
    "        (in this case it's 4 points).\n",
    "    \"\"\"\n",
    "    coeff = [random.randrange(0, FIELD_SIZE) for _ in range(t - 1)]\n",
    "    coeff.append(secret)\n",
    "    return coeff\n",
    " \n",
    " \n",
    "def generate_shares(n, m, secret):\n",
    "    \"\"\"\n",
    "    Split given `secret` into `n` shares with minimum threshold\n",
    "    of `m` shares to recover this `secret`, using SSS algorithm.\n",
    "    \"\"\"\n",
    "    coefficients = coeff(m, secret)\n",
    "    shares = []\n",
    " \n",
    "    for i in range(1, n+1):\n",
    "        x = random.randrange(1, FIELD_SIZE)\n",
    "        shares.append((x, polynom(x, coefficients)))\n",
    " \n",
    "    return shares\n",
    " \n",
    " \n",
    "# Driver code\n",
    "if __name__ == '__main__':\n",
    " \n",
    "    # (3,5) sharing scheme\n",
    "    t, n = 3, 6\n",
    "    secret = 4321\n",
    "    print(f'Original Secret: {secret}')\n",
    "    \n",
    " \n",
    "    # Phase I: Generation of shares\n",
    "    shares = generate_shares(n, t, secret)\n",
    "    xList, yList = zip(*shares)\n",
    "    print('x-coordinates: '+\", \".join(map(str, xList)))\n",
    "    print('y-coordinates: '+\", \".join(map(str, yList)))\n",
    "            \n",
    "            \n",
    " \n",
    "    # Phase II: Secret Reconstruction\n",
    "    # Picking t shares randomly for\n",
    "    # reconstruction\n",
    "    pool = random.sample(shares, t)\n",
    "    print(f'Combining shares: {\", \".join(str(share) for share in pool)}')\n",
    "    print(f'Reconstructed secret: {reconstruct_secret(pool)}')"
   ]
  },
  {
   "cell_type": "code",
   "execution_count": 2,
   "metadata": {},
   "outputs": [
    {
     "data": {
      "image/png": "[encoded data removed]",
      "text/plain": [
       "<Figure size 432x288 with 1 Axes>"
      ]
     },
     "metadata": {
      "needs_background": "light"
     },
     "output_type": "display_data"
    },
    {
     "name": "stdout",
     "output_type": "stream",
     "text": [
      "x-coordinates: 9798, 4807, 4044, 3439, 2836, 8409\n",
      "y-coordinates: 936853626277, 225518698029, 159613813081, 115432446621, 78505095657, 690067434961\n"
     ]
    },
    {
     "data": {
      "image/png": "[encoded data removed]",
      "text/plain": [
       "<Figure size 432x288 with 1 Axes>"
      ]
     },
     "metadata": {
      "needs_background": "light"
     },
     "output_type": "display_data"
    },
    {
     "name": "stdout",
     "output_type": "stream",
     "text": [
      "Secret: 0, 4321.0007300502\n"
     ]
    }
   ],
   "source": [
    "##Plot Polynom\n",
    "from matplotlib import pyplot as plt\n",
    "import numpy as np\n",
    "\n",
    "#Separate x and y values\n",
    "x = []\n",
    "y = []\n",
    "for i in range(len(shares)):\n",
    "    x.append(shares[i][0])\n",
    "    y.append(shares[i][1])\n",
    "\n",
    "coefficients = np.polyfit(x, y, 4)\n",
    "poly = np.poly1d(coefficients)\n",
    "\n",
    "#Calculate new x and y values\n",
    "new_x = np.linspace(-1000, 10000)\n",
    "new_y = poly(new_x)\n",
    "\n",
    "secret_x = 0\n",
    "secret_y = poly(secret_x)\n",
    "\n",
    "#Plot polynomial fit\n",
    "plt.plot(x, y, \"o\", new_x, new_y, linewidth=2)\n",
    "plt.xlim([-1000, 10000 ])\n",
    "plt.show()\n",
    "\n",
    "print('x-coordinates: '+\", \".join(map(str, x)))\n",
    "print('y-coordinates: '+\", \".join(map(str, y)))\n",
    "\n",
    "new2_x = np.linspace(-100, +100)\n",
    "new2_y = poly(new2_x)\n",
    "\n",
    "\n",
    "#Plot polynomial fit\n",
    "plt.plot(secret_x, secret_y, \"o\", new2_x, new2_y, linewidth=2)\n",
    "plt.xlim([-100, +100])\n",
    "plt.show()\n",
    "\n",
    "print('Secret: ' + str(secret_x) + ', ' + str(secret_y))\n"
   ]
  },
  {
   "cell_type": "code",
   "execution_count": null,
   "metadata": {},
   "outputs": [],
   "source": []
  }
 ],
 "metadata": {
  "kernelspec": {
   "display_name": "Python 3",
   "language": "python",
   "name": "python3"
  },
  "language_info": {
   "codemirror_mode": {
    "name": "ipython",
    "version": 3
   },
   "file_extension": ".py",
   "mimetype": "text/x-python",
   "name": "python",
   "nbconvert_exporter": "python",
   "pygments_lexer": "ipython3",
   "version": "3.8.5"
  }
 },
 "nbformat": 4,
 "nbformat_minor": 4
}
